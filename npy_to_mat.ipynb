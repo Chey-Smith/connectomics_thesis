{
 "cells": [
  {
   "cell_type": "code",
   "execution_count": 4,
   "metadata": {},
   "outputs": [],
   "source": [
    "import scipy.io\n",
    "from pathlib import Path\n",
    "import numpy as np\n",
    "import os "
   ]
  },
  {
   "cell_type": "code",
   "execution_count": null,
   "metadata": {},
   "outputs": [],
   "source": [
    "def combine_sm_fm(subj_id):\n",
    "    save_path = Path(f\"/home/chanae/thesis/combined_matrices/{subj_id}.mat\") \n",
    "    \n",
    "    # if save_path.exists():\n",
    "    #     return\n",
    "\n",
    "    sm_path = Path(\"/home/chanae/thesis/structural_matrices\") / subj_id / \"structural_matrix_Yeo_dmn_fpn.npy\"\n",
    "    fm_path = Path(\"/home/chanae/thesis/functional_matrices\") / subj_id / \"functional_matrix_Yeo.npy\"\n",
    "\n",
    "    if sm_path.exists() and fm_path.exists():\n",
    "        struc_matrix = np.load(sm_path)\n",
    "        func_matrix = np.load(fm_path)\n",
    "        comb_matrix = {\"sc\": struc_matrix, \"fc\":func_matrix}\n",
    "\n",
    "        scipy.io.savemat(save_path, comb_matrix)\n",
    "\n",
    "# test_matrices = ['100307', '102109', '103010', '103515', '104416', '105014', '105620', '108020', '108323', '108525']\n",
    "\n",
    "# for m in test_matrices:\n",
    "#     combine_sm_fm(m)\n",
    "\n",
    "subj_list = os.listdir(\"/home/lars/Data__lars/HCP_1200/\")\n",
    "print(len(subj_list))\n",
    "\n",
    "for subj in subj_list:\n",
    "    combine_sm_fm(subj)\n"
   ]
  },
  {
   "cell_type": "code",
   "execution_count": null,
   "metadata": {},
   "outputs": [],
   "source": [
    "def aggregate_upper_triangles(data_path):\n",
    "\n",
    "    # Get the list of .mat files for all subjects\n",
    "    subj_list = os.listdir(data_path)\n",
    "    subj_list.sort()\n",
    "\n",
    "    # Get the num of combined fc+sc .mat files in the directory (should be 1052)\n",
    "    num_files = len([entry for entry in subj_list if os.path.isfile(os.path.join(data_path, entry))])\n",
    "    columns = 1275 #(upper-triangle of fpn/dmn matrix incl. diagonal calculated by (n*(n+1))/2)\n",
    "\n",
    "    # Initialize a dictionary to store the flattened upper triangles\n",
    "    flattened_triangles = {'sc': np.zeros((num_files, columns)), 'fc': np.zeros((num_files, columns))}  \n",
    "\n",
    "    # Iterate over all .mat files in the specified directory\n",
    "    for i, subj in enumerate(subj_list):\n",
    "        # Load the .mat file\n",
    "        mat = scipy.io.loadmat(os.path.join(data_path, subj))\n",
    "        \n",
    "        # For each subj, the matrices are stored in variables 'sc' and 'fc'\n",
    "        for matrix_name in ['sc', 'fc']:                \n",
    "            # Extract the upper triangle of the matrix                      \n",
    "            upper_triangle = mat[matrix_name][np.triu_indices(50)]\n",
    "            assert upper_triangle.ndim == 1\n",
    "            assert len(upper_triangle) == columns\n",
    "\n",
    "            # Add the upper triangle to the dictionary\n",
    "            flattened_triangles[matrix_name][i] = upper_triangle\n",
    "\n",
    "        \n",
    "    # Specify how many subjects will be used for training and testing\n",
    "    train_size = 820 # ensure the size is a multiple of batch_size (10) - 78%\n",
    "    test_size = num_files - train_size\n",
    "\n",
    "    # Separate into train and test dictionaries\n",
    "    train_dict = {'sc': flattened_triangles['sc'][:train_size], 'fc': flattened_triangles['fc'][:train_size]}\n",
    "    test_dict = {'sc': flattened_triangles['sc'][train_size:], 'fc': flattened_triangles['fc'][train_size:]}    \n",
    "\n",
    "    # Save the train and test dictionaries as .mat files\n",
    "    save_path = Path('/home/chanae/thesis/train_test_matrices')\n",
    "    scipy.io.savemat(save_path/'train.mat', train_dict)\n",
    "    scipy.io.savemat(save_path/'test.mat', test_dict)\n",
    "\n",
    "    return \n",
    "\n",
    "data_path = '/home/chanae/thesis/combined_matrices'\n",
    "aggregate_upper_triangles(data_path)"
   ]
  },
  {
   "cell_type": "code",
   "execution_count": null,
   "metadata": {},
   "outputs": [],
   "source": [
    "import matplotlib.pyplot as plt\n",
    "\n",
    "input_data = scipy.io.loadmat(\"/home/chanae/thesis/combined_matrices/100307.mat\")['sc']\n",
    "output_data = scipy.io.loadmat(\"/home/chanae/thesis/combined_matrices/100307.mat\")['fc']\n",
    "\n",
    "plt.figure(figsize=(5,5))\n",
    "plt.imshow(output_data)"
   ]
  },
  {
   "cell_type": "code",
   "execution_count": null,
   "metadata": {},
   "outputs": [],
   "source": [
    "data = scipy.io.loadmat('/home/chanae/scripts/mapping_SC_FC-master/example_data.mat')\n",
    "# print(data)\n",
    "# print(data.keys())\n",
    "print(data['fc'].shape)\n",
    "\n",
    "empty_val = np.zeros((67, 67))\n",
    "empty_val[np.triu_indices(67)] = data['fc'][0]\n",
    "print(empty_val)\n",
    "\n",
    "plt.figure(figsize=(5,5))\n",
    "plt.imshow(empty_val)\n",
    "\n"
   ]
  },
  {
   "cell_type": "code",
   "execution_count": null,
   "metadata": {},
   "outputs": [],
   "source": [
    "import matplotlib.pyplot as plt\n",
    "\n",
    "input_data = scipy.io.loadmat(\"/home/chanae/thesis/combined_matrices/100307.mat\")['sc']\n",
    "output_data = scipy.io.loadmat(\"/home/chanae/thesis/combined_matrices/100307.mat\")['fc']\n",
    "\n",
    "plt.figure(figsize=(5,5))\n",
    "plt.imshow(output_data)"
   ]
  }
 ],
 "metadata": {
  "kernelspec": {
   "display_name": "Python 3",
   "language": "python",
   "name": "python3"
  },
  "language_info": {
   "codemirror_mode": {
    "name": "ipython",
    "version": 3
   },
   "file_extension": ".py",
   "mimetype": "text/x-python",
   "name": "python",
   "nbconvert_exporter": "python",
   "pygments_lexer": "ipython3",
   "version": "3.9.2"
  },
  "orig_nbformat": 4
 },
 "nbformat": 4,
 "nbformat_minor": 2
}
