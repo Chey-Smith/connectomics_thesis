{
 "cells": [
  {
   "cell_type": "code",
   "execution_count": null,
   "metadata": {},
   "outputs": [],
   "source": [
    "import numpy as np\n",
    "import pandas as pd\n",
    "import statsmodels.api as sm\n",
    "import scipy.io\n",
    "from pathlib import Path\n",
    "\n",
    "# Load the .mat file\n",
    "data_path = '/home/chanae/thesis/nn_predicted_fc/predicted_fc.mat'\n",
    "data = scipy.io.loadmat(data_path) \n",
    "\n",
    "# Extract the matrices\n",
    "sc_matrices = data['in']\n",
    "efc_matrices = data['out']\n",
    "pfc_matrices = data['predicted']\n",
    "\n",
    "# Initialize containers for the corrected matrices\n",
    "efc_matrices_residuals = np.empty(efc_matrices.shape)\n",
    "pfc_matrices_residuals = np.empty(pfc_matrices.shape)\n",
    "\n",
    "# Iterate over all matrices\n",
    "for i in range(efc_matrices.shape[0]):  # iterate through each of the matrices\n",
    "\n",
    "    # Flatten the connectivity data and prepare for regression\n",
    "    X = sc_matrices[i].flatten()\n",
    "    Y_efc = efc_matrices[i].flatten()\n",
    "    Y_pfc = pfc_matrices[i].flatten()\n",
    "\n",
    "    # Add a constant (intercept term) to the predictors\n",
    "    X = sm.add_constant(X)\n",
    "\n",
    "    # Perform the regression for empirical functional connectivity\n",
    "    model_efc = sm.OLS(Y_efc, X)\n",
    "    results_efc = model_efc.fit()\n",
    "    residuals_efc = results_efc.resid\n",
    "\n",
    "    # Perform the regression for predicted functional connectivity\n",
    "    model_pfc = sm.OLS(Y_pfc, X)\n",
    "    results_pfc = model_pfc.fit()\n",
    "    residuals_pfc = results_pfc.resid\n",
    "\n",
    "    # Reshape the residuals back into the original matrix shape\n",
    "    residuals_efc_matrix = residuals_efc.reshape(efc_matrices[i].shape)\n",
    "    residuals_pfc_matrix = residuals_pfc.reshape(pfc_matrices[i].shape)\n",
    "\n",
    "    # Store the corrected matrices\n",
    "    efc_matrices_residuals[i] = residuals_efc_matrix\n",
    "    pfc_matrices_residuals[i] = residuals_pfc_matrix\n",
    "\n",
    "# Save the corrected matrices into a new .mat file\n",
    "save_path = Path('/home/chanae/thesis/residual_matrices')\n",
    "scipy.io.savemat(save_path/'residual_matrices.mat', {'in': sc_matrices, 'out': efc_matrices_residuals, 'predicted': pfc_matrices_residuals})"
   ]
  }
 ],
 "metadata": {
  "kernelspec": {
   "display_name": "Python 3",
   "language": "python",
   "name": "python3"
  },
  "language_info": {
   "codemirror_mode": {
    "name": "ipython",
    "version": 3
   },
   "file_extension": ".py",
   "mimetype": "text/x-python",
   "name": "python",
   "nbconvert_exporter": "python",
   "pygments_lexer": "ipython3",
   "version": "3.9.2"
  },
  "orig_nbformat": 4
 },
 "nbformat": 4,
 "nbformat_minor": 2
}
