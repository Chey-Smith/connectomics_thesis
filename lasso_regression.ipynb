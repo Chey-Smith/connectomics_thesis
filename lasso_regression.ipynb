{
 "cells": [
  {
   "cell_type": "code",
   "execution_count": 3,
   "metadata": {},
   "outputs": [],
   "source": [
    "import pandas as pd\n",
    "import numpy as np\n",
    "import scipy.io\n",
    "from sklearn.linear_model import LassoCV\n",
    "from sklearn.model_selection import KFold\n",
    "from sklearn.metrics import r2_score, mean_squared_error\n",
    "from scipy.stats import pearsonr\n",
    "import matplotlib.pyplot as plt\n",
    "\n",
    "def lasso_cv(fc_type):\n",
    "\n",
    "    # Load cognitive scores and keep only the last 232 rows (for test files)\n",
    "    scores_df = pd.read_excel('/home/chanae/Data__chanae/HCP_cognitive_scores.xlsx')[820:]\n",
    "\n",
    "    # Load functional connectivity data\n",
    "    # fc_path = '/home/chanae/thesis/nn_predicted_fc/predicted_fc.mat'\n",
    "    fc_path = '/home/chanae/thesis/residual_matrices/residual_matrices.mat'\n",
    "    fc = scipy.io.loadmat(fc_path)[fc_type]\n",
    "\n",
    "    # Prepare data\n",
    "    X = fc\n",
    "    y = scores_df['cognitive_score'].values\n",
    "\n",
    "    # 10-Fold Cross validation\n",
    "    kf = KFold(n_splits=10, shuffle=True, random_state=42)\n",
    "\n",
    "    correlations = []\n",
    "    errors = []\n",
    "\n",
    "    for train_index, test_index in kf.split(X):\n",
    "        X_train, X_test = X[train_index], X[test_index]\n",
    "        y_train, y_test = y[train_index], y[test_index]\n",
    "\n",
    "        # Check if y_train or y_test has NaN values \n",
    "        if np.isnan(y_train).any() or np.isnan(y_test).any():\n",
    "            print(\"Warning: y_train or y_test contains NaN values.\")\n",
    "\n",
    "        # Internal cross-validation to optimize the Lasso parameter\n",
    "        lasso = LassoCV(cv=5, random_state=0, max_iter=60000).fit(X_train, y_train)\n",
    "\n",
    "        # Make predictions using the test set\n",
    "        y_pred = lasso.predict(X_test)\n",
    "\n",
    "        if np.std(y_test) == 0 or np.std(y_pred) == 0:\n",
    "            print(\"Warning: y_test or y_pred has zero standard deviation.\")\n",
    "\n",
    "        # Compute Pearson correlation\n",
    "        corr, _ = pearsonr(y_test, y_pred)\n",
    "        correlations.append(corr)\n",
    "\n",
    "        # Compute mean squared error\n",
    "        error = mean_squared_error(y_test, y_pred)\n",
    "        errors.append(error)\n",
    "\n",
    "    # Average correlation, std and error over the 10 folds\n",
    "    avg_corr = np.mean(correlations)\n",
    "    avg_std = np.std(correlations)\n",
    "    avg_error = np.mean(errors)\n",
    "\n",
    "    return lasso, avg_corr, avg_std, avg_error"
   ]
  },
  {
   "cell_type": "code",
   "execution_count": 4,
   "metadata": {},
   "outputs": [
    {
     "name": "stdout",
     "output_type": "stream",
     "text": [
      "eFC: \n",
      "Average Pearson correlation: 0.30022905191843346 (std: 0.19841434211710898) \n",
      "Average mean squared error: 140.06942930864454\n"
     ]
    }
   ],
   "source": [
    "efc_lasso, efc_corr, efc_std, efc_error = lasso_cv('out')\n",
    "print(f\"eFC: \\nAverage Pearson correlation: {efc_corr} (std: {efc_std}) \\nAverage mean squared error: {efc_error}\")"
   ]
  },
  {
   "cell_type": "code",
   "execution_count": 5,
   "metadata": {},
   "outputs": [
    {
     "name": "stdout",
     "output_type": "stream",
     "text": [
      "pFC: \n",
      "Average Pearson correlation: 0.2307423373422946 (std: 0.1699288361585388) \n",
      "Average mean squared error: 147.8366061846072\n"
     ]
    }
   ],
   "source": [
    "pfc_lasso, pfc_corr, pfc_std, pfc_error = lasso_cv('predicted')\n",
    "print(f\"pFC: \\nAverage Pearson correlation: {pfc_corr} (std: {pfc_std}) \\nAverage mean squared error: {pfc_error}\")"
   ]
  }
 ],
 "metadata": {
  "kernelspec": {
   "display_name": "Python 3",
   "language": "python",
   "name": "python3"
  },
  "language_info": {
   "codemirror_mode": {
    "name": "ipython",
    "version": 3
   },
   "file_extension": ".py",
   "mimetype": "text/x-python",
   "name": "python",
   "nbconvert_exporter": "python",
   "pygments_lexer": "ipython3",
   "version": "3.9.2"
  },
  "orig_nbformat": 4
 },
 "nbformat": 4,
 "nbformat_minor": 2
}
